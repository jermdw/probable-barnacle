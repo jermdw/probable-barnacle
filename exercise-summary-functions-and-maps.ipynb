{
 "cells": [
  {
   "cell_type": "markdown",
   "id": "338f42f4",
   "metadata": {
    "papermill": {
     "duration": 0.028392,
     "end_time": "2022-03-10T16:22:03.641447",
     "exception": false,
     "start_time": "2022-03-10T16:22:03.613055",
     "status": "completed"
    },
    "tags": []
   },
   "source": [
    "**This notebook is an exercise in the [Pandas](https://www.kaggle.com/learn/pandas) course.  You can reference the tutorial at [this link](https://www.kaggle.com/residentmario/summary-functions-and-maps).**\n",
    "\n",
    "---\n"
   ]
  },
  {
   "cell_type": "markdown",
   "id": "56bacacc",
   "metadata": {
    "papermill": {
     "duration": 0.025437,
     "end_time": "2022-03-10T16:22:03.694129",
     "exception": false,
     "start_time": "2022-03-10T16:22:03.668692",
     "status": "completed"
    },
    "tags": []
   },
   "source": [
    "# Introduction\n",
    "\n",
    "Now you are ready to get a deeper understanding of your data.\n",
    "\n",
    "Run the following cell to load your data and some utility functions (including code to check your answers)."
   ]
  },
  {
   "cell_type": "code",
   "execution_count": 1,
   "id": "f4a0d581",
   "metadata": {
    "execution": {
     "iopub.execute_input": "2022-03-10T16:22:03.752590Z",
     "iopub.status.busy": "2022-03-10T16:22:03.750768Z",
     "iopub.status.idle": "2022-03-10T16:22:12.069901Z",
     "shell.execute_reply": "2022-03-10T16:22:12.070465Z",
     "shell.execute_reply.started": "2022-03-10T16:20:16.265239Z"
    },
    "papermill": {
     "duration": 8.351026,
     "end_time": "2022-03-10T16:22:12.071139",
     "exception": false,
     "start_time": "2022-03-10T16:22:03.720113",
     "status": "completed"
    },
    "tags": []
   },
   "outputs": [
    {
     "name": "stdout",
     "output_type": "stream",
     "text": [
      "Setup complete.\n"
     ]
    },
    {
     "data": {
      "text/html": [
       "<div>\n",
       "<style scoped>\n",
       "    .dataframe tbody tr th:only-of-type {\n",
       "        vertical-align: middle;\n",
       "    }\n",
       "\n",
       "    .dataframe tbody tr th {\n",
       "        vertical-align: top;\n",
       "    }\n",
       "\n",
       "    .dataframe thead th {\n",
       "        text-align: right;\n",
       "    }\n",
       "</style>\n",
       "<table border=\"1\" class=\"dataframe\">\n",
       "  <thead>\n",
       "    <tr style=\"text-align: right;\">\n",
       "      <th></th>\n",
       "      <th>country</th>\n",
       "      <th>description</th>\n",
       "      <th>designation</th>\n",
       "      <th>points</th>\n",
       "      <th>price</th>\n",
       "      <th>province</th>\n",
       "      <th>region_1</th>\n",
       "      <th>region_2</th>\n",
       "      <th>taster_name</th>\n",
       "      <th>taster_twitter_handle</th>\n",
       "      <th>title</th>\n",
       "      <th>variety</th>\n",
       "      <th>winery</th>\n",
       "    </tr>\n",
       "  </thead>\n",
       "  <tbody>\n",
       "    <tr>\n",
       "      <th>0</th>\n",
       "      <td>Italy</td>\n",
       "      <td>Aromas include tropical fruit, broom, brimston...</td>\n",
       "      <td>Vulkà Bianco</td>\n",
       "      <td>87</td>\n",
       "      <td>NaN</td>\n",
       "      <td>Sicily &amp; Sardinia</td>\n",
       "      <td>Etna</td>\n",
       "      <td>NaN</td>\n",
       "      <td>Kerin O’Keefe</td>\n",
       "      <td>@kerinokeefe</td>\n",
       "      <td>Nicosia 2013 Vulkà Bianco  (Etna)</td>\n",
       "      <td>White Blend</td>\n",
       "      <td>Nicosia</td>\n",
       "    </tr>\n",
       "    <tr>\n",
       "      <th>1</th>\n",
       "      <td>Portugal</td>\n",
       "      <td>This is ripe and fruity, a wine that is smooth...</td>\n",
       "      <td>Avidagos</td>\n",
       "      <td>87</td>\n",
       "      <td>15.0</td>\n",
       "      <td>Douro</td>\n",
       "      <td>NaN</td>\n",
       "      <td>NaN</td>\n",
       "      <td>Roger Voss</td>\n",
       "      <td>@vossroger</td>\n",
       "      <td>Quinta dos Avidagos 2011 Avidagos Red (Douro)</td>\n",
       "      <td>Portuguese Red</td>\n",
       "      <td>Quinta dos Avidagos</td>\n",
       "    </tr>\n",
       "    <tr>\n",
       "      <th>2</th>\n",
       "      <td>US</td>\n",
       "      <td>Tart and snappy, the flavors of lime flesh and...</td>\n",
       "      <td>NaN</td>\n",
       "      <td>87</td>\n",
       "      <td>14.0</td>\n",
       "      <td>Oregon</td>\n",
       "      <td>Willamette Valley</td>\n",
       "      <td>Willamette Valley</td>\n",
       "      <td>Paul Gregutt</td>\n",
       "      <td>@paulgwine</td>\n",
       "      <td>Rainstorm 2013 Pinot Gris (Willamette Valley)</td>\n",
       "      <td>Pinot Gris</td>\n",
       "      <td>Rainstorm</td>\n",
       "    </tr>\n",
       "    <tr>\n",
       "      <th>3</th>\n",
       "      <td>US</td>\n",
       "      <td>Pineapple rind, lemon pith and orange blossom ...</td>\n",
       "      <td>Reserve Late Harvest</td>\n",
       "      <td>87</td>\n",
       "      <td>13.0</td>\n",
       "      <td>Michigan</td>\n",
       "      <td>Lake Michigan Shore</td>\n",
       "      <td>NaN</td>\n",
       "      <td>Alexander Peartree</td>\n",
       "      <td>NaN</td>\n",
       "      <td>St. Julian 2013 Reserve Late Harvest Riesling ...</td>\n",
       "      <td>Riesling</td>\n",
       "      <td>St. Julian</td>\n",
       "    </tr>\n",
       "    <tr>\n",
       "      <th>4</th>\n",
       "      <td>US</td>\n",
       "      <td>Much like the regular bottling from 2012, this...</td>\n",
       "      <td>Vintner's Reserve Wild Child Block</td>\n",
       "      <td>87</td>\n",
       "      <td>65.0</td>\n",
       "      <td>Oregon</td>\n",
       "      <td>Willamette Valley</td>\n",
       "      <td>Willamette Valley</td>\n",
       "      <td>Paul Gregutt</td>\n",
       "      <td>@paulgwine</td>\n",
       "      <td>Sweet Cheeks 2012 Vintner's Reserve Wild Child...</td>\n",
       "      <td>Pinot Noir</td>\n",
       "      <td>Sweet Cheeks</td>\n",
       "    </tr>\n",
       "  </tbody>\n",
       "</table>\n",
       "</div>"
      ],
      "text/plain": [
       "    country                                        description  \\\n",
       "0     Italy  Aromas include tropical fruit, broom, brimston...   \n",
       "1  Portugal  This is ripe and fruity, a wine that is smooth...   \n",
       "2        US  Tart and snappy, the flavors of lime flesh and...   \n",
       "3        US  Pineapple rind, lemon pith and orange blossom ...   \n",
       "4        US  Much like the regular bottling from 2012, this...   \n",
       "\n",
       "                          designation  points  price           province  \\\n",
       "0                        Vulkà Bianco      87    NaN  Sicily & Sardinia   \n",
       "1                            Avidagos      87   15.0              Douro   \n",
       "2                                 NaN      87   14.0             Oregon   \n",
       "3                Reserve Late Harvest      87   13.0           Michigan   \n",
       "4  Vintner's Reserve Wild Child Block      87   65.0             Oregon   \n",
       "\n",
       "              region_1           region_2         taster_name  \\\n",
       "0                 Etna                NaN       Kerin O’Keefe   \n",
       "1                  NaN                NaN          Roger Voss   \n",
       "2    Willamette Valley  Willamette Valley        Paul Gregutt   \n",
       "3  Lake Michigan Shore                NaN  Alexander Peartree   \n",
       "4    Willamette Valley  Willamette Valley        Paul Gregutt   \n",
       "\n",
       "  taster_twitter_handle                                              title  \\\n",
       "0          @kerinokeefe                  Nicosia 2013 Vulkà Bianco  (Etna)   \n",
       "1            @vossroger      Quinta dos Avidagos 2011 Avidagos Red (Douro)   \n",
       "2           @paulgwine       Rainstorm 2013 Pinot Gris (Willamette Valley)   \n",
       "3                   NaN  St. Julian 2013 Reserve Late Harvest Riesling ...   \n",
       "4           @paulgwine   Sweet Cheeks 2012 Vintner's Reserve Wild Child...   \n",
       "\n",
       "          variety               winery  \n",
       "0     White Blend              Nicosia  \n",
       "1  Portuguese Red  Quinta dos Avidagos  \n",
       "2      Pinot Gris            Rainstorm  \n",
       "3        Riesling           St. Julian  \n",
       "4      Pinot Noir         Sweet Cheeks  "
      ]
     },
     "execution_count": 1,
     "metadata": {},
     "output_type": "execute_result"
    }
   ],
   "source": [
    "import pandas as pd\n",
    "pd.set_option(\"display.max_rows\", 5)\n",
    "reviews = pd.read_csv(\"../input/wine-reviews/winemag-data-130k-v2.csv\", index_col=0)\n",
    "\n",
    "from learntools.core import binder; binder.bind(globals())\n",
    "from learntools.pandas.summary_functions_and_maps import *\n",
    "print(\"Setup complete.\")\n",
    "\n",
    "reviews.head()"
   ]
  },
  {
   "cell_type": "markdown",
   "id": "87f67da4",
   "metadata": {
    "papermill": {
     "duration": 0.032531,
     "end_time": "2022-03-10T16:22:12.140265",
     "exception": false,
     "start_time": "2022-03-10T16:22:12.107734",
     "status": "completed"
    },
    "tags": []
   },
   "source": [
    "# Exercises"
   ]
  },
  {
   "cell_type": "markdown",
   "id": "6b26ab2f",
   "metadata": {
    "papermill": {
     "duration": 0.027092,
     "end_time": "2022-03-10T16:22:12.201236",
     "exception": false,
     "start_time": "2022-03-10T16:22:12.174144",
     "status": "completed"
    },
    "tags": []
   },
   "source": [
    "## 1.\n",
    "\n",
    "What is the median of the `points` column in the `reviews` DataFrame?"
   ]
  },
  {
   "cell_type": "code",
   "execution_count": 2,
   "id": "66c6600b",
   "metadata": {
    "execution": {
     "iopub.execute_input": "2022-03-10T16:22:12.259740Z",
     "iopub.status.busy": "2022-03-10T16:22:12.258948Z",
     "iopub.status.idle": "2022-03-10T16:22:12.267055Z",
     "shell.execute_reply": "2022-03-10T16:22:12.267584Z",
     "shell.execute_reply.started": "2022-03-10T16:20:20.147013Z"
    },
    "papermill": {
     "duration": 0.03901,
     "end_time": "2022-03-10T16:22:12.267790",
     "exception": false,
     "start_time": "2022-03-10T16:22:12.228780",
     "status": "completed"
    },
    "tags": []
   },
   "outputs": [
    {
     "data": {
      "application/javascript": [
       "parent.postMessage({\"jupyterEvent\": \"custom.exercise_interaction\", \"data\": {\"outcomeType\": 1, \"valueTowardsCompletion\": 0.14285714285714285, \"interactionType\": 1, \"questionType\": 1, \"questionId\": \"1_MedianPoints\", \"learnToolsVersion\": \"0.3.4\", \"failureMessage\": \"\", \"exceptionClass\": \"\", \"trace\": \"\"}}, \"*\")"
      ],
      "text/plain": [
       "<IPython.core.display.Javascript object>"
      ]
     },
     "metadata": {},
     "output_type": "display_data"
    },
    {
     "data": {
      "text/markdown": [
       "<span style=\"color:#33cc33\">Correct</span>"
      ],
      "text/plain": [
       "Correct"
      ]
     },
     "metadata": {},
     "output_type": "display_data"
    }
   ],
   "source": [
    "median_points = reviews.points.median()\n",
    "\n",
    "# Check your answer\n",
    "q1.check()"
   ]
  },
  {
   "cell_type": "code",
   "execution_count": 3,
   "id": "30602912",
   "metadata": {
    "execution": {
     "iopub.execute_input": "2022-03-10T16:22:12.330577Z",
     "iopub.status.busy": "2022-03-10T16:22:12.329858Z",
     "iopub.status.idle": "2022-03-10T16:22:12.332527Z",
     "shell.execute_reply": "2022-03-10T16:22:12.333045Z"
    },
    "papermill": {
     "duration": 0.034688,
     "end_time": "2022-03-10T16:22:12.333312",
     "exception": false,
     "start_time": "2022-03-10T16:22:12.298624",
     "status": "completed"
    },
    "tags": []
   },
   "outputs": [],
   "source": [
    "#q1.hint()\n",
    "#q1.solution()"
   ]
  },
  {
   "cell_type": "markdown",
   "id": "bb20ee01",
   "metadata": {
    "papermill": {
     "duration": 0.028327,
     "end_time": "2022-03-10T16:22:12.390986",
     "exception": false,
     "start_time": "2022-03-10T16:22:12.362659",
     "status": "completed"
    },
    "tags": []
   },
   "source": [
    "## 2. \n",
    "What countries are represented in the dataset? (Your answer should not include any duplicates.)"
   ]
  },
  {
   "cell_type": "code",
   "execution_count": 4,
   "id": "26921f9c",
   "metadata": {
    "execution": {
     "iopub.execute_input": "2022-03-10T16:22:12.458144Z",
     "iopub.status.busy": "2022-03-10T16:22:12.457358Z",
     "iopub.status.idle": "2022-03-10T16:22:12.470225Z",
     "shell.execute_reply": "2022-03-10T16:22:12.470736Z",
     "shell.execute_reply.started": "2022-03-10T16:20:26.792293Z"
    },
    "papermill": {
     "duration": 0.050967,
     "end_time": "2022-03-10T16:22:12.470930",
     "exception": false,
     "start_time": "2022-03-10T16:22:12.419963",
     "status": "completed"
    },
    "tags": []
   },
   "outputs": [
    {
     "data": {
      "application/javascript": [
       "parent.postMessage({\"jupyterEvent\": \"custom.exercise_interaction\", \"data\": {\"outcomeType\": 1, \"valueTowardsCompletion\": 0.14285714285714285, \"interactionType\": 1, \"questionType\": 2, \"questionId\": \"2_UniqueCountries\", \"learnToolsVersion\": \"0.3.4\", \"failureMessage\": \"\", \"exceptionClass\": \"\", \"trace\": \"\"}}, \"*\")"
      ],
      "text/plain": [
       "<IPython.core.display.Javascript object>"
      ]
     },
     "metadata": {},
     "output_type": "display_data"
    },
    {
     "data": {
      "text/markdown": [
       "<span style=\"color:#33cc33\">Correct</span>"
      ],
      "text/plain": [
       "Correct"
      ]
     },
     "metadata": {},
     "output_type": "display_data"
    }
   ],
   "source": [
    "countries = reviews.country.unique()\n",
    "\n",
    "# Check your answer\n",
    "q2.check()"
   ]
  },
  {
   "cell_type": "code",
   "execution_count": 5,
   "id": "e601b9b1",
   "metadata": {
    "execution": {
     "iopub.execute_input": "2022-03-10T16:22:12.535043Z",
     "iopub.status.busy": "2022-03-10T16:22:12.534324Z",
     "iopub.status.idle": "2022-03-10T16:22:12.537358Z",
     "shell.execute_reply": "2022-03-10T16:22:12.537895Z"
    },
    "papermill": {
     "duration": 0.036548,
     "end_time": "2022-03-10T16:22:12.538095",
     "exception": false,
     "start_time": "2022-03-10T16:22:12.501547",
     "status": "completed"
    },
    "tags": []
   },
   "outputs": [],
   "source": [
    "#q2.hint()\n",
    "#q2.solution()"
   ]
  },
  {
   "cell_type": "markdown",
   "id": "0f97e41c",
   "metadata": {
    "papermill": {
     "duration": 0.029676,
     "end_time": "2022-03-10T16:22:12.598785",
     "exception": false,
     "start_time": "2022-03-10T16:22:12.569109",
     "status": "completed"
    },
    "tags": []
   },
   "source": [
    "## 3.\n",
    "How often does each country appear in the dataset? Create a Series `reviews_per_country` mapping countries to the count of reviews of wines from that country."
   ]
  },
  {
   "cell_type": "code",
   "execution_count": 6,
   "id": "0e000f36",
   "metadata": {
    "execution": {
     "iopub.execute_input": "2022-03-10T16:22:12.685056Z",
     "iopub.status.busy": "2022-03-10T16:22:12.684318Z",
     "iopub.status.idle": "2022-03-10T16:22:12.688318Z",
     "shell.execute_reply": "2022-03-10T16:22:12.688821Z",
     "shell.execute_reply.started": "2022-03-10T16:20:32.344451Z"
    },
    "papermill": {
     "duration": 0.060277,
     "end_time": "2022-03-10T16:22:12.689013",
     "exception": false,
     "start_time": "2022-03-10T16:22:12.628736",
     "status": "completed"
    },
    "tags": []
   },
   "outputs": [
    {
     "data": {
      "application/javascript": [
       "parent.postMessage({\"jupyterEvent\": \"custom.exercise_interaction\", \"data\": {\"outcomeType\": 1, \"valueTowardsCompletion\": 0.14285714285714285, \"interactionType\": 1, \"questionType\": 1, \"questionId\": \"3_ReviewsPerCountry\", \"learnToolsVersion\": \"0.3.4\", \"failureMessage\": \"\", \"exceptionClass\": \"\", \"trace\": \"\"}}, \"*\")"
      ],
      "text/plain": [
       "<IPython.core.display.Javascript object>"
      ]
     },
     "metadata": {},
     "output_type": "display_data"
    },
    {
     "data": {
      "text/markdown": [
       "<span style=\"color:#33cc33\">Correct</span>"
      ],
      "text/plain": [
       "Correct"
      ]
     },
     "metadata": {},
     "output_type": "display_data"
    }
   ],
   "source": [
    "reviews_per_country = reviews.country.value_counts()\n",
    "\n",
    "# Check your answer\n",
    "q3.check()"
   ]
  },
  {
   "cell_type": "code",
   "execution_count": 7,
   "id": "2b8ed66b",
   "metadata": {
    "execution": {
     "iopub.execute_input": "2022-03-10T16:22:12.755155Z",
     "iopub.status.busy": "2022-03-10T16:22:12.754353Z",
     "iopub.status.idle": "2022-03-10T16:22:12.757326Z",
     "shell.execute_reply": "2022-03-10T16:22:12.757934Z"
    },
    "papermill": {
     "duration": 0.037992,
     "end_time": "2022-03-10T16:22:12.758153",
     "exception": false,
     "start_time": "2022-03-10T16:22:12.720161",
     "status": "completed"
    },
    "tags": []
   },
   "outputs": [],
   "source": [
    "#q3.hint()\n",
    "#q3.solution()"
   ]
  },
  {
   "cell_type": "markdown",
   "id": "ed451a25",
   "metadata": {
    "papermill": {
     "duration": 0.034005,
     "end_time": "2022-03-10T16:22:12.827042",
     "exception": false,
     "start_time": "2022-03-10T16:22:12.793037",
     "status": "completed"
    },
    "tags": []
   },
   "source": [
    "## 4.\n",
    "Create variable `centered_price` containing a version of the `price` column with the mean price subtracted.\n",
    "\n",
    "(Note: this 'centering' transformation is a common preprocessing step before applying various machine learning algorithms.) "
   ]
  },
  {
   "cell_type": "code",
   "execution_count": 8,
   "id": "19d24127",
   "metadata": {
    "execution": {
     "iopub.execute_input": "2022-03-10T16:22:12.898224Z",
     "iopub.status.busy": "2022-03-10T16:22:12.897464Z",
     "iopub.status.idle": "2022-03-10T16:22:12.902218Z",
     "shell.execute_reply": "2022-03-10T16:22:12.902793Z",
     "shell.execute_reply.started": "2022-03-10T16:20:36.832451Z"
    },
    "papermill": {
     "duration": 0.041022,
     "end_time": "2022-03-10T16:22:12.902996",
     "exception": false,
     "start_time": "2022-03-10T16:22:12.861974",
     "status": "completed"
    },
    "tags": []
   },
   "outputs": [],
   "source": [
    "review_price_mean = reviews.price.mean()"
   ]
  },
  {
   "cell_type": "code",
   "execution_count": 9,
   "id": "efad5bd5",
   "metadata": {
    "execution": {
     "iopub.execute_input": "2022-03-10T16:22:12.969596Z",
     "iopub.status.busy": "2022-03-10T16:22:12.968916Z",
     "iopub.status.idle": "2022-03-10T16:22:12.977283Z",
     "shell.execute_reply": "2022-03-10T16:22:12.976731Z",
     "shell.execute_reply.started": "2022-03-10T16:20:39.320314Z"
    },
    "papermill": {
     "duration": 0.042626,
     "end_time": "2022-03-10T16:22:12.977435",
     "exception": false,
     "start_time": "2022-03-10T16:22:12.934809",
     "status": "completed"
    },
    "tags": []
   },
   "outputs": [
    {
     "data": {
      "application/javascript": [
       "parent.postMessage({\"jupyterEvent\": \"custom.exercise_interaction\", \"data\": {\"outcomeType\": 1, \"valueTowardsCompletion\": 0.14285714285714285, \"interactionType\": 1, \"questionType\": 1, \"questionId\": \"4_CenteredPrice\", \"learnToolsVersion\": \"0.3.4\", \"failureMessage\": \"\", \"exceptionClass\": \"\", \"trace\": \"\"}}, \"*\")"
      ],
      "text/plain": [
       "<IPython.core.display.Javascript object>"
      ]
     },
     "metadata": {},
     "output_type": "display_data"
    },
    {
     "data": {
      "text/markdown": [
       "<span style=\"color:#33cc33\">Correct</span>"
      ],
      "text/plain": [
       "Correct"
      ]
     },
     "metadata": {},
     "output_type": "display_data"
    }
   ],
   "source": [
    "centered_price = reviews.price - review_price_mean\n",
    "\n",
    "# Check your answer\n",
    "q4.check()"
   ]
  },
  {
   "cell_type": "code",
   "execution_count": 10,
   "id": "def25e07",
   "metadata": {
    "execution": {
     "iopub.execute_input": "2022-03-10T16:22:13.049766Z",
     "iopub.status.busy": "2022-03-10T16:22:13.048901Z",
     "iopub.status.idle": "2022-03-10T16:22:13.051314Z",
     "shell.execute_reply": "2022-03-10T16:22:13.051933Z"
    },
    "papermill": {
     "duration": 0.041317,
     "end_time": "2022-03-10T16:22:13.052146",
     "exception": false,
     "start_time": "2022-03-10T16:22:13.010829",
     "status": "completed"
    },
    "tags": []
   },
   "outputs": [],
   "source": [
    "#q4.hint()\n",
    "#q4.solution()"
   ]
  },
  {
   "cell_type": "markdown",
   "id": "1bd27a84",
   "metadata": {
    "papermill": {
     "duration": 0.03385,
     "end_time": "2022-03-10T16:22:13.119295",
     "exception": false,
     "start_time": "2022-03-10T16:22:13.085445",
     "status": "completed"
    },
    "tags": []
   },
   "source": [
    "## 5.\n",
    "I'm an economical wine buyer. Which wine is the \"best bargain\"? Create a variable `bargain_wine` with the title of the wine with the highest points-to-price ratio in the dataset."
   ]
  },
  {
   "cell_type": "code",
   "execution_count": 11,
   "id": "28a3f776",
   "metadata": {
    "execution": {
     "iopub.execute_input": "2022-03-10T16:22:13.190674Z",
     "iopub.status.busy": "2022-03-10T16:22:13.189949Z",
     "iopub.status.idle": "2022-03-10T16:22:13.206091Z",
     "shell.execute_reply": "2022-03-10T16:22:13.206618Z",
     "shell.execute_reply.started": "2022-03-10T16:20:44.189906Z"
    },
    "papermill": {
     "duration": 0.054247,
     "end_time": "2022-03-10T16:22:13.206821",
     "exception": false,
     "start_time": "2022-03-10T16:22:13.152574",
     "status": "completed"
    },
    "tags": []
   },
   "outputs": [
    {
     "data": {
      "text/html": [
       "<div>\n",
       "<style scoped>\n",
       "    .dataframe tbody tr th:only-of-type {\n",
       "        vertical-align: middle;\n",
       "    }\n",
       "\n",
       "    .dataframe tbody tr th {\n",
       "        vertical-align: top;\n",
       "    }\n",
       "\n",
       "    .dataframe thead th {\n",
       "        text-align: right;\n",
       "    }\n",
       "</style>\n",
       "<table border=\"1\" class=\"dataframe\">\n",
       "  <thead>\n",
       "    <tr style=\"text-align: right;\">\n",
       "      <th></th>\n",
       "      <th>country</th>\n",
       "      <th>description</th>\n",
       "      <th>designation</th>\n",
       "      <th>points</th>\n",
       "      <th>price</th>\n",
       "      <th>province</th>\n",
       "      <th>region_1</th>\n",
       "      <th>region_2</th>\n",
       "      <th>taster_name</th>\n",
       "      <th>taster_twitter_handle</th>\n",
       "      <th>title</th>\n",
       "      <th>variety</th>\n",
       "      <th>winery</th>\n",
       "    </tr>\n",
       "  </thead>\n",
       "  <tbody>\n",
       "    <tr>\n",
       "      <th>0</th>\n",
       "      <td>Italy</td>\n",
       "      <td>Aromas include tropical fruit, broom, brimston...</td>\n",
       "      <td>Vulkà Bianco</td>\n",
       "      <td>87</td>\n",
       "      <td>NaN</td>\n",
       "      <td>Sicily &amp; Sardinia</td>\n",
       "      <td>Etna</td>\n",
       "      <td>NaN</td>\n",
       "      <td>Kerin O’Keefe</td>\n",
       "      <td>@kerinokeefe</td>\n",
       "      <td>Nicosia 2013 Vulkà Bianco  (Etna)</td>\n",
       "      <td>White Blend</td>\n",
       "      <td>Nicosia</td>\n",
       "    </tr>\n",
       "    <tr>\n",
       "      <th>1</th>\n",
       "      <td>Portugal</td>\n",
       "      <td>This is ripe and fruity, a wine that is smooth...</td>\n",
       "      <td>Avidagos</td>\n",
       "      <td>87</td>\n",
       "      <td>15.0</td>\n",
       "      <td>Douro</td>\n",
       "      <td>NaN</td>\n",
       "      <td>NaN</td>\n",
       "      <td>Roger Voss</td>\n",
       "      <td>@vossroger</td>\n",
       "      <td>Quinta dos Avidagos 2011 Avidagos Red (Douro)</td>\n",
       "      <td>Portuguese Red</td>\n",
       "      <td>Quinta dos Avidagos</td>\n",
       "    </tr>\n",
       "    <tr>\n",
       "      <th>2</th>\n",
       "      <td>US</td>\n",
       "      <td>Tart and snappy, the flavors of lime flesh and...</td>\n",
       "      <td>NaN</td>\n",
       "      <td>87</td>\n",
       "      <td>14.0</td>\n",
       "      <td>Oregon</td>\n",
       "      <td>Willamette Valley</td>\n",
       "      <td>Willamette Valley</td>\n",
       "      <td>Paul Gregutt</td>\n",
       "      <td>@paulgwine</td>\n",
       "      <td>Rainstorm 2013 Pinot Gris (Willamette Valley)</td>\n",
       "      <td>Pinot Gris</td>\n",
       "      <td>Rainstorm</td>\n",
       "    </tr>\n",
       "    <tr>\n",
       "      <th>3</th>\n",
       "      <td>US</td>\n",
       "      <td>Pineapple rind, lemon pith and orange blossom ...</td>\n",
       "      <td>Reserve Late Harvest</td>\n",
       "      <td>87</td>\n",
       "      <td>13.0</td>\n",
       "      <td>Michigan</td>\n",
       "      <td>Lake Michigan Shore</td>\n",
       "      <td>NaN</td>\n",
       "      <td>Alexander Peartree</td>\n",
       "      <td>NaN</td>\n",
       "      <td>St. Julian 2013 Reserve Late Harvest Riesling ...</td>\n",
       "      <td>Riesling</td>\n",
       "      <td>St. Julian</td>\n",
       "    </tr>\n",
       "    <tr>\n",
       "      <th>4</th>\n",
       "      <td>US</td>\n",
       "      <td>Much like the regular bottling from 2012, this...</td>\n",
       "      <td>Vintner's Reserve Wild Child Block</td>\n",
       "      <td>87</td>\n",
       "      <td>65.0</td>\n",
       "      <td>Oregon</td>\n",
       "      <td>Willamette Valley</td>\n",
       "      <td>Willamette Valley</td>\n",
       "      <td>Paul Gregutt</td>\n",
       "      <td>@paulgwine</td>\n",
       "      <td>Sweet Cheeks 2012 Vintner's Reserve Wild Child...</td>\n",
       "      <td>Pinot Noir</td>\n",
       "      <td>Sweet Cheeks</td>\n",
       "    </tr>\n",
       "  </tbody>\n",
       "</table>\n",
       "</div>"
      ],
      "text/plain": [
       "    country                                        description  \\\n",
       "0     Italy  Aromas include tropical fruit, broom, brimston...   \n",
       "1  Portugal  This is ripe and fruity, a wine that is smooth...   \n",
       "2        US  Tart and snappy, the flavors of lime flesh and...   \n",
       "3        US  Pineapple rind, lemon pith and orange blossom ...   \n",
       "4        US  Much like the regular bottling from 2012, this...   \n",
       "\n",
       "                          designation  points  price           province  \\\n",
       "0                        Vulkà Bianco      87    NaN  Sicily & Sardinia   \n",
       "1                            Avidagos      87   15.0              Douro   \n",
       "2                                 NaN      87   14.0             Oregon   \n",
       "3                Reserve Late Harvest      87   13.0           Michigan   \n",
       "4  Vintner's Reserve Wild Child Block      87   65.0             Oregon   \n",
       "\n",
       "              region_1           region_2         taster_name  \\\n",
       "0                 Etna                NaN       Kerin O’Keefe   \n",
       "1                  NaN                NaN          Roger Voss   \n",
       "2    Willamette Valley  Willamette Valley        Paul Gregutt   \n",
       "3  Lake Michigan Shore                NaN  Alexander Peartree   \n",
       "4    Willamette Valley  Willamette Valley        Paul Gregutt   \n",
       "\n",
       "  taster_twitter_handle                                              title  \\\n",
       "0          @kerinokeefe                  Nicosia 2013 Vulkà Bianco  (Etna)   \n",
       "1            @vossroger      Quinta dos Avidagos 2011 Avidagos Red (Douro)   \n",
       "2           @paulgwine       Rainstorm 2013 Pinot Gris (Willamette Valley)   \n",
       "3                   NaN  St. Julian 2013 Reserve Late Harvest Riesling ...   \n",
       "4           @paulgwine   Sweet Cheeks 2012 Vintner's Reserve Wild Child...   \n",
       "\n",
       "          variety               winery  \n",
       "0     White Blend              Nicosia  \n",
       "1  Portuguese Red  Quinta dos Avidagos  \n",
       "2      Pinot Gris            Rainstorm  \n",
       "3        Riesling           St. Julian  \n",
       "4      Pinot Noir         Sweet Cheeks  "
      ]
     },
     "execution_count": 11,
     "metadata": {},
     "output_type": "execute_result"
    }
   ],
   "source": [
    "reviews.head()"
   ]
  },
  {
   "cell_type": "code",
   "execution_count": 12,
   "id": "69509ce1",
   "metadata": {
    "execution": {
     "iopub.execute_input": "2022-03-10T16:22:13.278082Z",
     "iopub.status.busy": "2022-03-10T16:22:13.277435Z",
     "iopub.status.idle": "2022-03-10T16:22:13.281731Z",
     "shell.execute_reply": "2022-03-10T16:22:13.282287Z",
     "shell.execute_reply.started": "2022-03-10T16:20:45.959145Z"
    },
    "papermill": {
     "duration": 0.042206,
     "end_time": "2022-03-10T16:22:13.282500",
     "exception": false,
     "start_time": "2022-03-10T16:22:13.240294",
     "status": "completed"
    },
    "tags": []
   },
   "outputs": [],
   "source": [
    "points_ratio = reviews.points / reviews.price"
   ]
  },
  {
   "cell_type": "code",
   "execution_count": 13,
   "id": "b3b645a0",
   "metadata": {
    "execution": {
     "iopub.execute_input": "2022-03-10T16:22:13.354878Z",
     "iopub.status.busy": "2022-03-10T16:22:13.354186Z",
     "iopub.status.idle": "2022-03-10T16:22:13.366850Z",
     "shell.execute_reply": "2022-03-10T16:22:13.367369Z",
     "shell.execute_reply.started": "2022-03-10T16:20:51.691813Z"
    },
    "papermill": {
     "duration": 0.050824,
     "end_time": "2022-03-10T16:22:13.367588",
     "exception": false,
     "start_time": "2022-03-10T16:22:13.316764",
     "status": "completed"
    },
    "tags": []
   },
   "outputs": [
    {
     "data": {
      "application/javascript": [
       "parent.postMessage({\"jupyterEvent\": \"custom.exercise_interaction\", \"data\": {\"outcomeType\": 1, \"valueTowardsCompletion\": 0.14285714285714285, \"interactionType\": 1, \"questionType\": 2, \"questionId\": \"5_BargainWine\", \"learnToolsVersion\": \"0.3.4\", \"failureMessage\": \"\", \"exceptionClass\": \"\", \"trace\": \"\"}}, \"*\")"
      ],
      "text/plain": [
       "<IPython.core.display.Javascript object>"
      ]
     },
     "metadata": {},
     "output_type": "display_data"
    },
    {
     "data": {
      "text/markdown": [
       "<span style=\"color:#33cc33\">Correct</span>"
      ],
      "text/plain": [
       "Correct"
      ]
     },
     "metadata": {},
     "output_type": "display_data"
    }
   ],
   "source": [
    "bargain_idx = (reviews.points / reviews.price).idxmax()\n",
    "bargain_wine = reviews.loc[bargain_idx, 'title']\n",
    "\n",
    "# Check your answer\n",
    "q5.check()"
   ]
  },
  {
   "cell_type": "code",
   "execution_count": 14,
   "id": "91f61527",
   "metadata": {
    "execution": {
     "iopub.execute_input": "2022-03-10T16:22:13.442974Z",
     "iopub.status.busy": "2022-03-10T16:22:13.442240Z",
     "iopub.status.idle": "2022-03-10T16:22:13.445256Z",
     "shell.execute_reply": "2022-03-10T16:22:13.445875Z",
     "shell.execute_reply.started": "2022-03-10T15:19:04.974646Z"
    },
    "papermill": {
     "duration": 0.043623,
     "end_time": "2022-03-10T16:22:13.446088",
     "exception": false,
     "start_time": "2022-03-10T16:22:13.402465",
     "status": "completed"
    },
    "tags": []
   },
   "outputs": [],
   "source": [
    "#q5.hint()\n",
    "#q5.solution()"
   ]
  },
  {
   "cell_type": "markdown",
   "id": "9dfa46fa",
   "metadata": {
    "papermill": {
     "duration": 0.034503,
     "end_time": "2022-03-10T16:22:13.515706",
     "exception": false,
     "start_time": "2022-03-10T16:22:13.481203",
     "status": "completed"
    },
    "tags": []
   },
   "source": [
    "## 6.\n",
    "There are only so many words you can use when describing a bottle of wine. Is a wine more likely to be \"tropical\" or \"fruity\"? Create a Series `descriptor_counts` counting how many times each of these two words appears in the `description` column in the dataset. (For simplicity, let's ignore the capitalized versions of these words.)"
   ]
  },
  {
   "cell_type": "code",
   "execution_count": 15,
   "id": "e2aab94d",
   "metadata": {
    "execution": {
     "iopub.execute_input": "2022-03-10T16:22:13.588821Z",
     "iopub.status.busy": "2022-03-10T16:22:13.588065Z",
     "iopub.status.idle": "2022-03-10T16:22:13.739125Z",
     "shell.execute_reply": "2022-03-10T16:22:13.739639Z",
     "shell.execute_reply.started": "2022-03-10T16:21:13.559918Z"
    },
    "papermill": {
     "duration": 0.189405,
     "end_time": "2022-03-10T16:22:13.739831",
     "exception": false,
     "start_time": "2022-03-10T16:22:13.550426",
     "status": "completed"
    },
    "tags": []
   },
   "outputs": [
    {
     "data": {
      "application/javascript": [
       "parent.postMessage({\"jupyterEvent\": \"custom.exercise_interaction\", \"data\": {\"outcomeType\": 1, \"valueTowardsCompletion\": 0.14285714285714285, \"interactionType\": 1, \"questionType\": 1, \"questionId\": \"6_DescriptorCounts\", \"learnToolsVersion\": \"0.3.4\", \"failureMessage\": \"\", \"exceptionClass\": \"\", \"trace\": \"\"}}, \"*\")"
      ],
      "text/plain": [
       "<IPython.core.display.Javascript object>"
      ]
     },
     "metadata": {},
     "output_type": "display_data"
    },
    {
     "data": {
      "text/markdown": [
       "<span style=\"color:#33cc33\">Correct</span>"
      ],
      "text/plain": [
       "Correct"
      ]
     },
     "metadata": {},
     "output_type": "display_data"
    }
   ],
   "source": [
    "n_trop = reviews.description.map(lambda desc: \"tropical\" in desc).sum()\n",
    "n_fruity = reviews.description.map(lambda desc: \"fruity\" in desc).sum()\n",
    "\n",
    "descriptor_counts = pd.Series([n_trop, n_fruity], index=['tropical', 'fruity'])\n",
    "\n",
    "# Check your answer\n",
    "q6.check()"
   ]
  },
  {
   "cell_type": "code",
   "execution_count": 16,
   "id": "c6b39d51",
   "metadata": {
    "execution": {
     "iopub.execute_input": "2022-03-10T16:22:13.816294Z",
     "iopub.status.busy": "2022-03-10T16:22:13.815549Z",
     "iopub.status.idle": "2022-03-10T16:22:13.818349Z",
     "shell.execute_reply": "2022-03-10T16:22:13.819003Z",
     "shell.execute_reply.started": "2022-03-10T16:00:56.673561Z"
    },
    "papermill": {
     "duration": 0.042554,
     "end_time": "2022-03-10T16:22:13.819198",
     "exception": false,
     "start_time": "2022-03-10T16:22:13.776644",
     "status": "completed"
    },
    "tags": []
   },
   "outputs": [],
   "source": [
    "#q6.hint()\n",
    "#q6.solution()"
   ]
  },
  {
   "cell_type": "markdown",
   "id": "7596161b",
   "metadata": {
    "papermill": {
     "duration": 0.035976,
     "end_time": "2022-03-10T16:22:13.892242",
     "exception": false,
     "start_time": "2022-03-10T16:22:13.856266",
     "status": "completed"
    },
    "tags": []
   },
   "source": [
    "## 7.\n",
    "We'd like to host these wine reviews on our website, but a rating system ranging from 80 to 100 points is too hard to understand - we'd like to translate them into simple star ratings. A score of 95 or higher counts as 3 stars, a score of at least 85 but less than 95 is 2 stars. Any other score is 1 star.\n",
    "\n",
    "Also, the Canadian Vintners Association bought a lot of ads on the site, so any wines from Canada should automatically get 3 stars, regardless of points.\n",
    "\n",
    "Create a series `star_ratings` with the number of stars corresponding to each review in the dataset."
   ]
  },
  {
   "cell_type": "code",
   "execution_count": 17,
   "id": "119977e2",
   "metadata": {
    "execution": {
     "iopub.execute_input": "2022-03-10T16:22:13.968613Z",
     "iopub.status.busy": "2022-03-10T16:22:13.967892Z",
     "iopub.status.idle": "2022-03-10T16:22:13.972674Z",
     "shell.execute_reply": "2022-03-10T16:22:13.973290Z",
     "shell.execute_reply.started": "2022-03-10T16:21:16.403711Z"
    },
    "papermill": {
     "duration": 0.04478,
     "end_time": "2022-03-10T16:22:13.973521",
     "exception": false,
     "start_time": "2022-03-10T16:22:13.928741",
     "status": "completed"
    },
    "tags": []
   },
   "outputs": [],
   "source": [
    "def wine_rater(row):\n",
    "    if row.country == 'Canada':\n",
    "        return 3\n",
    "    elif row.points >= 95:\n",
    "        return 3\n",
    "    elif row.points >= 85:\n",
    "        return 2\n",
    "    else:\n",
    "        return 1"
   ]
  },
  {
   "cell_type": "code",
   "execution_count": 18,
   "id": "1bf1209b",
   "metadata": {
    "execution": {
     "iopub.execute_input": "2022-03-10T16:22:14.051069Z",
     "iopub.status.busy": "2022-03-10T16:22:14.050269Z",
     "iopub.status.idle": "2022-03-10T16:22:18.981437Z",
     "shell.execute_reply": "2022-03-10T16:22:18.980810Z",
     "shell.execute_reply.started": "2022-03-10T16:21:19.109386Z"
    },
    "papermill": {
     "duration": 4.970953,
     "end_time": "2022-03-10T16:22:18.981600",
     "exception": false,
     "start_time": "2022-03-10T16:22:14.010647",
     "status": "completed"
    },
    "tags": []
   },
   "outputs": [
    {
     "data": {
      "application/javascript": [
       "parent.postMessage({\"jupyterEvent\": \"custom.exercise_interaction\", \"data\": {\"outcomeType\": 1, \"valueTowardsCompletion\": 0.14285714285714285, \"interactionType\": 1, \"questionType\": 1, \"questionId\": \"7_StarRatings\", \"learnToolsVersion\": \"0.3.4\", \"failureMessage\": \"\", \"exceptionClass\": \"\", \"trace\": \"\"}}, \"*\")"
      ],
      "text/plain": [
       "<IPython.core.display.Javascript object>"
      ]
     },
     "metadata": {},
     "output_type": "display_data"
    },
    {
     "data": {
      "text/markdown": [
       "<span style=\"color:#33cc33\">Correct</span>"
      ],
      "text/plain": [
       "Correct"
      ]
     },
     "metadata": {},
     "output_type": "display_data"
    }
   ],
   "source": [
    "star_ratings = reviews.apply(wine_rater, axis='columns')\n",
    "\n",
    "# Check your answer\n",
    "q7.check()"
   ]
  },
  {
   "cell_type": "code",
   "execution_count": 19,
   "id": "9fd7ddcf",
   "metadata": {
    "execution": {
     "iopub.execute_input": "2022-03-10T16:22:19.064446Z",
     "iopub.status.busy": "2022-03-10T16:22:19.063695Z",
     "iopub.status.idle": "2022-03-10T16:22:19.066944Z",
     "shell.execute_reply": "2022-03-10T16:22:19.066306Z",
     "shell.execute_reply.started": "2022-03-10T16:17:21.987913Z"
    },
    "papermill": {
     "duration": 0.048799,
     "end_time": "2022-03-10T16:22:19.067106",
     "exception": false,
     "start_time": "2022-03-10T16:22:19.018307",
     "status": "completed"
    },
    "tags": []
   },
   "outputs": [],
   "source": [
    "#q7.hint()\n",
    "#q7.solution()"
   ]
  },
  {
   "cell_type": "markdown",
   "id": "27af02bd",
   "metadata": {
    "papermill": {
     "duration": 0.036708,
     "end_time": "2022-03-10T16:22:19.141001",
     "exception": false,
     "start_time": "2022-03-10T16:22:19.104293",
     "status": "completed"
    },
    "tags": []
   },
   "source": [
    "# Keep going\n",
    "Continue to **[grouping and sorting](https://www.kaggle.com/residentmario/grouping-and-sorting)**."
   ]
  },
  {
   "cell_type": "markdown",
   "id": "f2581e39",
   "metadata": {
    "papermill": {
     "duration": 0.037125,
     "end_time": "2022-03-10T16:22:19.215049",
     "exception": false,
     "start_time": "2022-03-10T16:22:19.177924",
     "status": "completed"
    },
    "tags": []
   },
   "source": [
    "---\n",
    "\n",
    "\n",
    "\n",
    "\n",
    "*Have questions or comments? Visit the [course discussion forum](https://www.kaggle.com/learn/pandas/discussion) to chat with other learners.*"
   ]
  }
 ],
 "metadata": {
  "kernelspec": {
   "display_name": "Python 3",
   "language": "python",
   "name": "python3"
  },
  "language_info": {
   "codemirror_mode": {
    "name": "ipython",
    "version": 3
   },
   "file_extension": ".py",
   "mimetype": "text/x-python",
   "name": "python",
   "nbconvert_exporter": "python",
   "pygments_lexer": "ipython3",
   "version": "3.7.12"
  },
  "papermill": {
   "default_parameters": {},
   "duration": 27.748148,
   "end_time": "2022-03-10T16:22:20.165032",
   "environment_variables": {},
   "exception": null,
   "input_path": "__notebook__.ipynb",
   "output_path": "__notebook__.ipynb",
   "parameters": {},
   "start_time": "2022-03-10T16:21:52.416884",
   "version": "2.3.3"
  }
 },
 "nbformat": 4,
 "nbformat_minor": 5
}
